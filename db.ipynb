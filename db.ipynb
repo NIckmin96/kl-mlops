{
 "cells": [
  {
   "cell_type": "code",
   "execution_count": 3,
   "metadata": {},
   "outputs": [],
   "source": [
    "import psycopg2\n",
    "import pandas as pd\n",
    "from sklearn.datasets import fetch_california_housing"
   ]
  },
  {
   "cell_type": "code",
   "execution_count": 4,
   "metadata": {},
   "outputs": [],
   "source": [
    "# DB connection\n",
    "\n",
    "db_connect = psycopg2.connect(\n",
    "    user = \"myuser\",\n",
    "    password = \"mypassword\",\n",
    "    host = \"localhost\",\n",
    "    port = 5432,\n",
    "    database = \"mydatabase\"\n",
    ")"
   ]
  },
  {
   "cell_type": "code",
   "execution_count": 5,
   "metadata": {},
   "outputs": [],
   "source": [
    "# load dataset (carlifornia housing)\n",
    "\n",
    "X,y = fetch_california_housing(return_X_y = True, as_frame = True)\n",
    "df = pd.concat([X,y], axis = 'columns')"
   ]
  },
  {
   "cell_type": "code",
   "execution_count": 7,
   "metadata": {},
   "outputs": [
    {
     "name": "stdout",
     "output_type": "stream",
     "text": [
      "<class 'pandas.core.frame.DataFrame'>\n",
      "RangeIndex: 20640 entries, 0 to 20639\n",
      "Data columns (total 9 columns):\n",
      " #   Column       Non-Null Count  Dtype  \n",
      "---  ------       --------------  -----  \n",
      " 0   MedInc       20640 non-null  float64\n",
      " 1   HouseAge     20640 non-null  float64\n",
      " 2   AveRooms     20640 non-null  float64\n",
      " 3   AveBedrms    20640 non-null  float64\n",
      " 4   Population   20640 non-null  float64\n",
      " 5   AveOccup     20640 non-null  float64\n",
      " 6   Latitude     20640 non-null  float64\n",
      " 7   Longitude    20640 non-null  float64\n",
      " 8   MedHouseVal  20640 non-null  float64\n",
      "dtypes: float64(9)\n",
      "memory usage: 1.4 MB\n"
     ]
    }
   ],
   "source": [
    "df.info()"
   ]
  },
  {
   "cell_type": "code",
   "execution_count": 9,
   "metadata": {},
   "outputs": [],
   "source": [
    "# table creation query\n",
    "\n",
    "creation_query = \"\"\"create table if not exists carlifornia_housing (\n",
    "    id serial primary key,\n",
    "    timestamp timestamp,\n",
    "    MedInc float8,\n",
    "    HouseAge float8,\n",
    "    AveRooms float8,\n",
    "    AveBedrms float8,\n",
    "    Population float8,\n",
    "    AveOccup float8,\n",
    "    Latitude float8,\n",
    "    Longitude float8,\n",
    "    MedHouseVal float8\n",
    "    );\"\"\""
   ]
  },
  {
   "cell_type": "code",
   "execution_count": 10,
   "metadata": {},
   "outputs": [],
   "source": [
    "# send query\n",
    "\n",
    "with db_connect.cursor() as cur:\n",
    "    cur.execute(creation_query)\n",
    "    db_connect.commit()"
   ]
  },
  {
   "attachments": {},
   "cell_type": "markdown",
   "metadata": {},
   "source": [
    "# Data Insertion"
   ]
  },
  {
   "cell_type": "code",
   "execution_count": 13,
   "metadata": {},
   "outputs": [
    {
     "name": "stdout",
     "output_type": "stream",
     "text": [
      "MedInc           3.333300\n",
      "HouseAge        45.000000\n",
      "AveRooms         4.594132\n",
      "AveBedrms        0.965770\n",
      "Population     946.000000\n",
      "AveOccup         2.312958\n",
      "Latitude        34.050000\n",
      "Longitude     -118.360000\n",
      "MedHouseVal      2.547000\n",
      "Name: 4732, dtype: float64\n"
     ]
    }
   ],
   "source": [
    "data = df.sample(1).squeeze()\n",
    "print(data)"
   ]
  },
  {
   "cell_type": "code",
   "execution_count": 14,
   "metadata": {},
   "outputs": [],
   "source": [
    "insert_row_query = f\"\"\"\n",
    "insert into carlifornia_housing (\n",
    "    timestamp,\n",
    "    MedInc,\n",
    "    HouseAge,\n",
    "    AveRooms,\n",
    "    AveBedrms,\n",
    "    Population,\n",
    "    AveOccup,\n",
    "    Latitude,\n",
    "    Longitude,\n",
    "    MedHouseVal\n",
    ")\n",
    "values (\n",
    "    now(),\n",
    "    {data.MedInc},\n",
    "    {data.HouseAge},\n",
    "    {data.AveRooms},\n",
    "    {data.AveBedrms},\n",
    "    {data.Population},\n",
    "    {data.AveOccup},\n",
    "    {data.Latitude},\n",
    "    {data.Longitude},\n",
    "    {data.MedHouseVal}\n",
    ");\n",
    "\"\"\""
   ]
  },
  {
   "cell_type": "code",
   "execution_count": 15,
   "metadata": {},
   "outputs": [],
   "source": [
    "with db_connect.cursor() as cur:\n",
    "    cur.execute(insert_row_query)\n",
    "    db_connect.commit()"
   ]
  },
  {
   "cell_type": "code",
   "execution_count": 16,
   "metadata": {},
   "outputs": [],
   "source": [
    "del db_connect"
   ]
  },
  {
   "cell_type": "code",
   "execution_count": null,
   "metadata": {},
   "outputs": [],
   "source": []
  }
 ],
 "metadata": {
  "kernelspec": {
   "display_name": "Python 3",
   "language": "python",
   "name": "python3"
  },
  "language_info": {
   "codemirror_mode": {
    "name": "ipython",
    "version": 3
   },
   "file_extension": ".py",
   "mimetype": "text/x-python",
   "name": "python",
   "nbconvert_exporter": "python",
   "pygments_lexer": "ipython3",
   "version": "3.8.5"
  },
  "orig_nbformat": 4
 },
 "nbformat": 4,
 "nbformat_minor": 2
}
