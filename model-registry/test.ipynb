{
 "cells": [
  {
   "cell_type": "code",
   "execution_count": 1,
   "metadata": {},
   "outputs": [],
   "source": [
    "import os\n",
    "os.environ['MLFLOW_S3_ENDPOINT_URL'] = 'http://localhost:9000'\n",
    "os.environ['MLFLOW_TRACKING_URI'] = 'http://localhost:5001'\n",
    "os.environ['AWS_ACCESS_KEY_ID'] = 'minio'\n",
    "os.environ['AWS_SECRET_ACCESS_KEY'] = 'miniostorage'"
   ]
  },
  {
   "cell_type": "code",
   "execution_count": 6,
   "metadata": {},
   "outputs": [
    {
     "name": "stderr",
     "output_type": "stream",
     "text": [
      "usage: ipykernel_launcher.py [-h] [--run-id RUN_ID] [--model-name MODEL_NAME]\n",
      "ipykernel_launcher.py: error: unrecognized arguments: --ip=127.0.0.1 --stdin=9010 --control=9008 --hb=9007 --Session.signature_scheme=\"hmac-sha256\" --Session.key=b\"5d6494f4-63bd-44ff-843a-745fb4463a5c\" --shell=9009 --transport=\"tcp\" --iopub=9011 --f=/Users/bokkimin/Library/Jupyter/runtime/kernel-v2-39082j7KhUBlNNZ4V.json\n"
     ]
    },
    {
     "ename": "SystemExit",
     "evalue": "2",
     "output_type": "error",
     "traceback": [
      "An exception has occurred, use %tb to see the full traceback.\n",
      "\u001b[0;31mSystemExit\u001b[0m\u001b[0;31m:\u001b[0m 2\n"
     ]
    }
   ],
   "source": [
    "from argparse import ArgumentParser\n",
    "# load model\n",
    "parser = ArgumentParser()\n",
    "parser.add_argument(\"--run-id\", dest=\"run_id\", type=str)\n",
    "parser.add_argument(\"--model-name\", dest=\"model_name\", type=str, default='sk_model')\n",
    "args=parser.parse_args()"
   ]
  },
  {
   "cell_type": "code",
   "execution_count": null,
   "metadata": {},
   "outputs": [],
   "source": [
    "model_pipeline = mlflow.sklearn.load_model(f\"runs:/{}\")"
   ]
  }
 ],
 "metadata": {
  "kernelspec": {
   "display_name": ".venv",
   "language": "python",
   "name": "python3"
  },
  "language_info": {
   "codemirror_mode": {
    "name": "ipython",
    "version": 3
   },
   "file_extension": ".py",
   "mimetype": "text/x-python",
   "name": "python",
   "nbconvert_exporter": "python",
   "pygments_lexer": "ipython3",
   "version": "3.8.5"
  },
  "orig_nbformat": 4
 },
 "nbformat": 4,
 "nbformat_minor": 2
}
